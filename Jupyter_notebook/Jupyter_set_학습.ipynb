{
 "cells": [
  {
   "cell_type": "code",
   "id": "initial_id",
   "metadata": {
    "collapsed": true,
    "ExecuteTime": {
     "end_time": "2025-04-11T06:15:43.725437Z",
     "start_time": "2025-04-11T06:15:43.700504Z"
    }
   },
   "source": [
    "def extract_words_from_file(filename):\n",
    "    with open(filename, 'r', encoding='utf-8') as f:\n",
    "        text = f.read()\n",
    "    # 단어 단위로 분할, 소문자 변환, 특수문자 제거는 필요 시 추가 가능\n",
    "    words = text.lower().split()\n",
    "    return set(words)\n",
    "\n",
    "def find_common_words(file1, file2):\n",
    "    words1 = extract_words_from_file(file1)\n",
    "    words2 = extract_words_from_file(file2)\n",
    "    return words1 & words2  # 교집합 반환\n",
    "\n",
    "# 사용 예시\n",
    "file1 = \"file_a.txt\"\n",
    "file2 = \"file_b.txt\"\n",
    "common = find_common_words(file1, file2)\n",
    "print(f\"공통 단어 개수: {len(common)}\")\n",
    "print(f\"공통 단어 목록: {sorted(common)}\")\n"
   ],
   "outputs": [
    {
     "name": "stdout",
     "output_type": "stream",
     "text": [
      "공통 단어 개수: 24\n",
      "공통 단어 목록: ['a', 'and', 'are', 'artificial', 'be', 'can', 'data', 'data.', 'files', 'for', 'in', 'intelligence', 'is', 'language', 'learning', 'machine', 'models', 'natural', 'on', 'processing', 'programming', 'python', 'sets', 'use']\n"
     ]
    }
   ],
   "execution_count": 1
  },
  {
   "metadata": {},
   "cell_type": "code",
   "outputs": [],
   "execution_count": null,
   "source": "",
   "id": "fd9c714d7c6a707d"
  }
 ],
 "metadata": {
  "kernelspec": {
   "display_name": "Python 3",
   "language": "python",
   "name": "python3"
  },
  "language_info": {
   "codemirror_mode": {
    "name": "ipython",
    "version": 2
   },
   "file_extension": ".py",
   "mimetype": "text/x-python",
   "name": "python",
   "nbconvert_exporter": "python",
   "pygments_lexer": "ipython2",
   "version": "2.7.6"
  }
 },
 "nbformat": 4,
 "nbformat_minor": 5
}
