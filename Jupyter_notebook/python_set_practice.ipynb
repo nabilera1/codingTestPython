{
 "cells": [
  {
   "cell_type": "markdown",
   "id": "a330dbe6",
   "metadata": {},
   "source": [
    "# 📘 파이썬 집합 (set) 중급 학습자료 및 코딩 문제"
   ]
  },
  {
   "cell_type": "markdown",
   "id": "cb5dbf1a",
   "metadata": {},
   "source": [
    "\n",
    "## 🧠 파이썬 집합(set) 중급 학습자료\n",
    "\n",
    "### ✅ 기본 특징\n",
    "- 중복 불허 (`{1, 2, 2, 3} → {1, 2, 3}`)\n",
    "- 순서 없음 (`set`은 인덱싱 불가)\n",
    "- 집합 연산 제공: `합집합`, `교집합`, `차집합`, `대칭차집합`\n",
    "\n",
    "### ✅ 주요 메서드 및 연산\n",
    "```python\n",
    "s = {1, 2, 3}\n",
    "s.add(4)         # 원소 추가\n",
    "s.remove(2)      # 원소 삭제 (없으면 오류)\n",
    "s.discard(5)     # 삭제 (없으면 무시)\n",
    "s.update({5, 6}) # 여러 개 추가\n",
    "\n",
    "a = {1, 2, 3}\n",
    "b = {3, 4, 5}\n",
    "a | b   # 합집합: {1, 2, 3, 4, 5}\n",
    "a & b   # 교집합: {3}\n",
    "a - b   # 차집합: {1, 2}\n",
    "a ^ b   # 대칭차집합: {1, 2, 4, 5}\n",
    "```\n"
   ]
  },
  {
   "cell_type": "markdown",
   "id": "11b1eb2b",
   "metadata": {},
   "source": [
    "### 🟢 [초급] 중복 제거하기"
   ]
  },
  {
   "cell_type": "code",
   "id": "7dc66907",
   "metadata": {
    "ExecuteTime": {
     "end_time": "2025-04-11T06:01:20.394534Z",
     "start_time": "2025-04-11T06:01:20.369601Z"
    }
   },
   "source": [
    "def remove_duplicates(names):\n",
    "    return sorted(set(names))\n",
    "\n",
    "# 예시 실행\n",
    "names = [\"Alice\", \"Bob\", \"Alice\", \"Charlie\", \"Bob\"]\n",
    "print(remove_duplicates(names))  # ['Alice', 'Bob', 'Charlie']"
   ],
   "outputs": [
    {
     "name": "stdout",
     "output_type": "stream",
     "text": [
      "['Alice', 'Bob', 'Charlie']\n"
     ]
    }
   ],
   "execution_count": 1
  },
  {
   "cell_type": "markdown",
   "id": "bbc01043",
   "metadata": {},
   "source": [
    "### 🟡 [중급] 두 리스트의 공통 원소 찾기"
   ]
  },
  {
   "cell_type": "code",
   "id": "5d318513",
   "metadata": {
    "ExecuteTime": {
     "end_time": "2025-04-11T06:08:00.525429Z",
     "start_time": "2025-04-11T06:08:00.513462Z"
    }
   },
   "source": [
    "def common_elements(list1, list2):\n",
    "    return list(set(list1) & set(list2))\n",
    "\n",
    "# 예시 실행\n",
    "print(common_elements([1, 2, 3, 4], [3, 4, 5, 6]))  # [3, 4]"
   ],
   "outputs": [
    {
     "name": "stdout",
     "output_type": "stream",
     "text": [
      "[3, 4]\n"
     ]
    }
   ],
   "execution_count": 2
  },
  {
   "cell_type": "markdown",
   "id": "27dabf8d",
   "metadata": {},
   "source": [
    "### 🟡 [중급] 집합 포함 여부 확인하기"
   ]
  },
  {
   "cell_type": "code",
   "execution_count": null,
   "id": "e9248982",
   "metadata": {},
   "outputs": [],
   "source": [
    "def is_subset(A, B):\n",
    "    return set(A).issubset(set(B))\n",
    "\n",
    "# 예시 실행\n",
    "print(is_subset([1, 2], [1, 2, 3]))  # True\n",
    "print(is_subset([1, 4], [1, 2, 3]))  # False"
   ]
  },
  {
   "cell_type": "markdown",
   "id": "6cf7a68d",
   "metadata": {},
   "source": [
    "### 🔴 [고급] 대칭차집합의 개수 세기"
   ]
  },
  {
   "cell_type": "code",
   "execution_count": null,
   "id": "01dfb7dc",
   "metadata": {},
   "outputs": [],
   "source": [
    "def symmetric_diff_count(A, B):\n",
    "    return len(set(A) ^ set(B))\n",
    "\n",
    "# 예시 실행\n",
    "print(symmetric_diff_count([1, 2, 3], [3, 4, 5]))  # 4"
   ]
  },
  {
   "cell_type": "markdown",
   "id": "f4819bf0",
   "metadata": {},
   "source": [
    "### 🔴 [고급] 공통 단어 없는 문장 쌍 찾기"
   ]
  },
  {
   "cell_type": "code",
   "execution_count": null,
   "id": "62275f2a",
   "metadata": {},
   "outputs": [],
   "source": [
    "def disjoint_sentences(sentences):\n",
    "    sets = [set(s.split()) for s in sentences]\n",
    "    result = []\n",
    "    for i in range(len(sets)):\n",
    "        for j in range(i + 1, len(sets)):\n",
    "            if sets[i].isdisjoint(sets[j]):\n",
    "                result.append((i, j))\n",
    "    return result\n",
    "\n",
    "# 예시 실행\n",
    "sents = [\"apple banana\", \"orange grape\", \"banana melon\"]\n",
    "print(disjoint_sentences(sents))  # [(0, 1), (1, 2)]"
   ]
  }
 ],
 "metadata": {
  "kernelspec": {
   "name": "python3",
   "language": "python",
   "display_name": "Python 3 (ipykernel)"
  }
 },
 "nbformat": 4,
 "nbformat_minor": 5
}
